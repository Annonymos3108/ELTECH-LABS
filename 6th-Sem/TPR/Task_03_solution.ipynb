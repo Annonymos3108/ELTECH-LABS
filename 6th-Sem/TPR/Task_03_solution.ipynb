{
 "cells": [
  {
   "cell_type": "markdown",
   "metadata": {},
   "source": [
    "<h1 style='text-align: center;'><b>Теория принятия решений</b></h1>\n",
    "\n",
    "---\n",
    "\n",
    "<p style='text-align: right;'><b>8363 Нерсисян А.С.</b></p>\n",
    "<p style='text-align: right;'><b>Вариант 50 (364)</b></p>\n",
    "\n",
    "\n",
    "## **Задача 3**\n",
    "---\n",
    "\n",
    "<p style='text-align: justify;'>Вам предлагается разработать компонент планирования в системе отопления «умного» дома. Задачей системы отопления является поддержание комфортной температуры с учетом рационального расходования электроэнергии. Система отопления имеет шесть режимов работы (0-5), каждый из которых характеризуется определенной теплоотдачей и стоимостью в час (табл. 4). Режим может изменяться раз в час.</p>\n",
    "\n",
    "<p style='text-align: justify;'>Изменение температуры в помещении за час определяется с помощью следующего уравнения:</p>\n",
    "\n",
    "$$ \\Delta T  = 0.5 * (E_{heat} - E_{loss}) $$\n",
    "\n",
    "<p style='text-align: justify;'>где $ E_{heat} $ — это энергия, выделенная за час системой отопления (МДж), а $ E_{loss} $ — потери энергии во внешнюю среду (МДж). Потери энергии (в МДж) определяются по следующей формуле:</p>\n",
    "\n",
    "$$ E_{loss} = 0.2 * (T_{in} − T_{out}) $$\n",
    "\n",
    "<p style='text-align: justify;'>где $ T_{in} $ — температура в помещении, а $ T_{out} $ — температура на улице (в градусах Цельсия). Дискомфорт пользователя пропорционален квадрату отклонения температуры в помещении от желаемой ($ 22^0 C $). Температура в помещении в начальный момент — $ 15^0 C $. Известны ожидаемое время пребывания пользователя в помещении и прогноз погоды на ближайшие 12 часов (табл. 5).</p>\n",
    "\n",
    "Требуется:\n",
    "1. <p style='text-align: justify;'>Составить целевую функцию, учитывающую как экономию энергии, так и дискомфорт пользователя от температуры, не соответствущей предпочтениям.</p>\n",
    "2. <p style='text-align: justify;'>Сформировать оптимальный план включения обогревателей на указанный горизонт планирования.</p>\n",
    "3. <p style='text-align: justify;'>Проанализировать чувствительность найденного плана к параметрам целевой функции (устанавливающим относительную важность двух критериев).</p>\n",
    "    \n",
    "<p style='text-align: justify;'>По мотивам Martinez-Gil J., Chasparis G., Freudenthaler B., Natschlaeger T. Realistic user\n",
    "behavior modeling for energy saving in residential buildings. Proceedings - International Workshop on Database and Expert Systems Applications.</p>\n",
    "\n",
    "<br><p><center><b><i>Таблица 4: Режимы работы системы отопления</i></b></center></p>\n",
    "\n",
    "Режим                          |  0  |  1  |  2  |  3  |  4  |  5\n",
    ":----------------------------- |:---:|:---:|:---:|:---:|:---:|:---:\n",
    "Выделяемая за час энергия, МДж |  0  |  2  |  4  |  6  |  8  |  10\n",
    "Стоимость в час, руб.          |  0  |  12 |  25 |  43 |  62 |  83\n",
    "\n",
    "\n",
    "<br><p><center><b><i>Таблица 5: Прогноз</i></b></center></p>\n",
    "\n",
    "Час | Присутствие пользователя | Температура на улице\n",
    ":---:|:---:|:---:\n",
    "  0  |  1  | -13\n",
    "  1  |  1  | -14\n",
    "  2  |  1  | -14\n",
    "  3  |  1  | -15\n",
    "  4  |  1  | -15\n",
    "  5  |  1  | -16\n",
    "  6  |  1  | -16\n",
    "  7  |  0  | -17\n",
    "  8  |  0  | -17\n",
    "  9  |  0  | -18\n",
    "  10 |  0  | -18\n",
    "  11 |  0  | -19\n",
    "  \n",
    " ---\n"
   ]
  },
  {
   "cell_type": "markdown",
   "metadata": {},
   "source": [
    "### Формальная постановка\n",
    "---\n"
   ]
  },
  {
   "cell_type": "markdown",
   "metadata": {},
   "source": [
    "## Список использованных источников\n",
    "\n",
    "[Jorge Martinez-Gil, Georgios Chasparis, Bernhard Freudenthaler, Thomas Natschlaeger, Realistic user behavior modeling for energy saving in residential buildings. Proceedings - International Workshop on Database and Expert Systems Applications.](http://publicationslist.org/data/jorge-martinez-gil/ref-15/Energy-Saving-Residential-Buildings.pdf)"
   ]
  }
 ],
 "metadata": {
  "kernelspec": {
   "display_name": "Python 3",
   "language": "python",
   "name": "python3"
  },
  "language_info": {
   "codemirror_mode": {
    "name": "ipython",
    "version": 3
   },
   "file_extension": ".py",
   "mimetype": "text/x-python",
   "name": "python",
   "nbconvert_exporter": "python",
   "pygments_lexer": "ipython3",
   "version": "3.8.5"
  }
 },
 "nbformat": 4,
 "nbformat_minor": 4
}
